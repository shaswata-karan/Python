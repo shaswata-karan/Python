{
 "cells": [
  {
   "cell_type": "code",
   "execution_count": 4,
   "id": "6cdc7093",
   "metadata": {},
   "outputs": [
    {
     "name": "stdout",
     "output_type": "stream",
     "text": [
      "Enter limit : 10\n",
      "Enter message : hi\n"
     ]
    }
   ],
   "source": [
    "import pyautogui as pt\n",
    "import time\n",
    "\n",
    "limit = input(\"Enter limit : \")\n",
    "message = input (\"Enter message : \")\n",
    "i=0\n",
    "\n",
    "time.sleep(3)\n",
    "while i<int(limit):\n",
    "\n",
    "    pt.typewrite(message)\n",
    "    pt.press(\"enter\")\n",
    "\n",
    "    i+=1"
   ]
  },
  {
   "cell_type": "code",
   "execution_count": null,
   "id": "32a8cc45",
   "metadata": {},
   "outputs": [],
   "source": [
    "hi\n",
    "hi\n",
    "hi\n",
    "hi\n",
    "hi\n",
    "hi\n",
    "hi\n",
    "hi\n",
    "hi\n",
    "hi\n"
   ]
  }
 ],
 "metadata": {
  "kernelspec": {
   "display_name": "Python 3 (ipykernel)",
   "language": "python",
   "name": "python3"
  },
  "language_info": {
   "codemirror_mode": {
    "name": "ipython",
    "version": 3
   },
   "file_extension": ".py",
   "mimetype": "text/x-python",
   "name": "python",
   "nbconvert_exporter": "python",
   "pygments_lexer": "ipython3",
   "version": "3.9.12"
  }
 },
 "nbformat": 4,
 "nbformat_minor": 5
}
