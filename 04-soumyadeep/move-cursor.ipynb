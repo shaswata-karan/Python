{
 "cells": [
  {
   "cell_type": "code",
   "execution_count": 1,
   "id": "eff8e286",
   "metadata": {},
   "outputs": [
    {
     "ename": "KeyboardInterrupt",
     "evalue": "",
     "output_type": "error",
     "traceback": [
      "\u001b[0;31m---------------------------------------------------------------------------\u001b[0m",
      "\u001b[0;31mKeyboardInterrupt\u001b[0m                         Traceback (most recent call last)",
      "Cell \u001b[0;32mIn [1], line 24\u001b[0m\n\u001b[1;32m     21\u001b[0m         pyautogui\u001b[38;5;241m.\u001b[39mmoveTo(x, y)\n\u001b[1;32m     22\u001b[0m         time\u001b[38;5;241m.\u001b[39msleep(\u001b[38;5;241m0.25\u001b[39m)\n\u001b[0;32m---> 24\u001b[0m \u001b[43mmove_cursor_in_circle\u001b[49m\u001b[43m(\u001b[49m\u001b[43m)\u001b[49m\n",
      "Cell \u001b[0;32mIn [1], line 10\u001b[0m, in \u001b[0;36mmove_cursor_in_circle\u001b[0;34m()\u001b[0m\n\u001b[1;32m      8\u001b[0m y \u001b[38;5;241m=\u001b[39m pyautogui\u001b[38;5;241m.\u001b[39mposition()[\u001b[38;5;241m1\u001b[39m] \u001b[38;5;241m+\u001b[39m \u001b[38;5;241m10\u001b[39m\n\u001b[1;32m      9\u001b[0m pyautogui\u001b[38;5;241m.\u001b[39mmoveTo(x, y)\n\u001b[0;32m---> 10\u001b[0m \u001b[43mtime\u001b[49m\u001b[38;5;241;43m.\u001b[39;49m\u001b[43msleep\u001b[49m\u001b[43m(\u001b[49m\u001b[38;5;241;43m0.25\u001b[39;49m\u001b[43m)\u001b[49m\n\u001b[1;32m     11\u001b[0m x \u001b[38;5;241m=\u001b[39m pyautogui\u001b[38;5;241m.\u001b[39mposition()[\u001b[38;5;241m0\u001b[39m] \u001b[38;5;241m-\u001b[39m \u001b[38;5;241m10\u001b[39m\n\u001b[1;32m     12\u001b[0m y \u001b[38;5;241m=\u001b[39m pyautogui\u001b[38;5;241m.\u001b[39mposition()[\u001b[38;5;241m1\u001b[39m] \u001b[38;5;241m+\u001b[39m \u001b[38;5;241m10\u001b[39m\n",
      "\u001b[0;31mKeyboardInterrupt\u001b[0m: "
     ]
    }
   ],
   "source": [
    "if __name__ == \"__main__\":\n",
    "    import pyautogui\n",
    "    import time\n",
    "\n",
    "    def move_cursor_in_circle():\n",
    "        while True:\n",
    "            x = pyautogui.position()[0] + 10\n",
    "            y = pyautogui.position()[1] + 10\n",
    "            pyautogui.moveTo(x, y)\n",
    "            time.sleep(0.25)\n",
    "            x = pyautogui.position()[0] - 10\n",
    "            y = pyautogui.position()[1] + 10\n",
    "            pyautogui.moveTo(x, y)\n",
    "            time.sleep(0.25)\n",
    "            x = pyautogui.position()[0] - 10\n",
    "            y = pyautogui.position()[1] - 10\n",
    "            pyautogui.moveTo(x, y)\n",
    "            time.sleep(0.25)\n",
    "            x = pyautogui.position()[0] + 10\n",
    "            y = pyautogui.position()[1] - 10\n",
    "            pyautogui.moveTo(x, y)\n",
    "            time.sleep(0.25)\n",
    "\n",
    "    move_cursor_in_circle()\n"
   ]
  },
  {
   "cell_type": "code",
   "execution_count": null,
   "id": "98693790",
   "metadata": {},
   "outputs": [],
   "source": []
  }
 ],
 "metadata": {
  "kernelspec": {
   "display_name": "Python 3 (ipykernel)",
   "language": "python",
   "name": "python3"
  },
  "language_info": {
   "codemirror_mode": {
    "name": "ipython",
    "version": 3
   },
   "file_extension": ".py",
   "mimetype": "text/x-python",
   "name": "python",
   "nbconvert_exporter": "python",
   "pygments_lexer": "ipython3",
   "version": "3.9.6"
  }
 },
 "nbformat": 4,
 "nbformat_minor": 5
}
